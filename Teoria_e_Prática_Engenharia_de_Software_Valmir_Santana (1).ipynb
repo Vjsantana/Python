{
  "nbformat": 4,
  "nbformat_minor": 0,
  "metadata": {
    "colab": {
      "name": "Teoria e Prática Engenharia de Software - Valmir Santana.ipynb",
      "provenance": []
    },
    "kernelspec": {
      "name": "python3",
      "display_name": "Python 3"
    }
  },
  "cells": [
    {
      "cell_type": "code",
      "metadata": {
        "id": "yzh-ZneU3muV",
        "colab_type": "code",
        "colab": {}
      },
      "source": [
        ""
      ],
      "execution_count": null,
      "outputs": []
    },
    {
      "cell_type": "markdown",
      "metadata": {
        "id": "qvaRZkYh4-_g",
        "colab_type": "text"
      },
      "source": [
        "<h1><center>EAD - Algoritimos e Lógica de Programação </h1> \n",
        "\n",
        "## Atividade de Teoria e Prática\n",
        "\n",
        "### Curso: Engenharia de Software\n",
        "\n",
        "### Aluno: Valmir José de Santana"
      ]
    },
    {
      "cell_type": "markdown",
      "metadata": {
        "id": "4lCQCaxY7wkH",
        "colab_type": "text"
      },
      "source": [
        "<h1><center>Locadora de Fitas Cassete e DVDs ACME </h1> "
      ]
    },
    {
      "cell_type": "markdown",
      "metadata": {
        "id": "rSx_ZOO18DMN",
        "colab_type": "text"
      },
      "source": [
        "<h4><center>Resistindo bravamente ao tempo junto com você"
      ]
    },
    {
      "cell_type": "markdown",
      "metadata": {
        "id": "I0nF7syV9ptN",
        "colab_type": "text"
      },
      "source": [
        "<h2><center>Dados para Cadastro dos Clientes"
      ]
    },
    {
      "cell_type": "markdown",
      "metadata": {
        "id": "YFm_bJwf6sMB",
        "colab_type": "text"
      },
      "source": [
        "### Criando Funções que recebem os dados dos clientes"
      ]
    },
    {
      "cell_type": "code",
      "metadata": {
        "id": "V9c8KJySXEVz",
        "colab_type": "code",
        "colab": {
          "base_uri": "https://localhost:8080/",
          "height": 136
        },
        "outputId": "99bdc31b-e68a-4584-bf15-6411a7af376c"
      },
      "source": [
        "# Funções utilizadas para o cadastro dos clientes\n",
        "print(\"*** Cadastro de clientes ***\\n\")\n",
        "nome=str(input('Nome do Cliente:'))\n",
        "rg=int(input('RG:'))\n",
        "cpf=int(input('CPF:'))\n",
        "print(\"Cadastro realizado com sucesso\\n\")"
      ],
      "execution_count": 82,
      "outputs": [
        {
          "output_type": "stream",
          "text": [
            "*** Cadastro de clientes ***\n",
            "\n",
            "Nome do Cliente:Cadastro de Teste\n",
            "RG:1100229903\n",
            "CPF:99911188837\n",
            "Cadastro realizado com sucesso\n",
            "\n"
          ],
          "name": "stdout"
        }
      ]
    },
    {
      "cell_type": "markdown",
      "metadata": {
        "id": "7jbbtxsr9OEG",
        "colab_type": "text"
      },
      "source": [
        "<h2><center>Consulta aos Dados Cadastrais dos Clientes"
      ]
    },
    {
      "cell_type": "markdown",
      "metadata": {
        "id": "LwFqOAa--I2v",
        "colab_type": "text"
      },
      "source": [
        "### Criando Dicionário contendo informações para consulta aos dados dos clientes"
      ]
    },
    {
      "cell_type": "markdown",
      "metadata": {
        "id": "1YqwBeJRmFkv",
        "colab_type": "text"
      },
      "source": [
        "A variável \"Clientes\" recebe o conjunto de dados dos clientes cadastrados. Ela é modificada, sempre que um determinado dado é inserido e o código é executado."
      ]
    },
    {
      "cell_type": "code",
      "metadata": {
        "id": "xOvmmQUPDPAA",
        "colab_type": "code",
        "colab": {}
      },
      "source": [
        "Clientes={}"
      ],
      "execution_count": null,
      "outputs": []
    },
    {
      "cell_type": "code",
      "metadata": {
        "id": "2EaemnaHGAHw",
        "colab_type": "code",
        "colab": {
          "base_uri": "https://localhost:8080/",
          "height": 34
        },
        "outputId": "d5476362-0414-453f-abb1-58ce5ecf444b"
      },
      "source": [
        "Clientes"
      ],
      "execution_count": null,
      "outputs": [
        {
          "output_type": "execute_result",
          "data": {
            "text/plain": [
              "{}"
            ]
          },
          "metadata": {
            "tags": []
          },
          "execution_count": 12
        }
      ]
    },
    {
      "cell_type": "markdown",
      "metadata": {
        "id": "7R1zXUWjC7cu",
        "colab_type": "text"
      },
      "source": [
        "### Criando Planilha contendo lista dos clientes"
      ]
    },
    {
      "cell_type": "code",
      "metadata": {
        "id": "Z6q4L8sdgpXC",
        "colab_type": "code",
        "colab": {}
      },
      "source": [
        "# Dicionário contendo os dados cadastrais dos usuários: NOME; RG e CPF\n",
        "# Ex.: Fulano de Tal; RG:1122334; CPF:11122233301"
      ],
      "execution_count": null,
      "outputs": []
    },
    {
      "cell_type": "code",
      "metadata": {
        "id": "cK5WL5fy22n3",
        "colab_type": "code",
        "colab": {}
      },
      "source": [
        "#Cadastro dos clientes da Locadora\n",
        "def clientes(): \n",
        "    print(\"*** CADASTRO DE CLIENTES ***\\n\")\n",
        "    nome=str(input('Nome do Cliente:'))\n",
        "    rg=int(input('RG:'))\n",
        "    cpf=int(input('CPF:'))\n",
        "    print(\"Cadastro realizado com sucesso!\\n\")\n",
        "    salvar_csv=open('clientes.csv','a')\n",
        "    salvar_csv.write(f'{cpf};{rg};{nome}\\n')\n",
        "    salvar_csv.close()"
      ],
      "execution_count": 83,
      "outputs": []
    },
    {
      "cell_type": "code",
      "metadata": {
        "id": "OEu-GFtE3esF",
        "colab_type": "code",
        "colab": {
          "base_uri": "https://localhost:8080/",
          "height": 136
        },
        "outputId": "3a8e8439-9066-4efc-8554-286f2c9ccdd3"
      },
      "source": [
        "#Chamando a função para realizar o cadastro de clientes\n",
        "clientes()"
      ],
      "execution_count": 52,
      "outputs": [
        {
          "output_type": "stream",
          "text": [
            "*** CADASTRO DE CLIENTES ***\n",
            "\n",
            "Nome do Cliente:Locatário da Silva\n",
            "RG:66778806\n",
            "CPF:55566677705\n",
            "Cadastro realizado com sucesso!\n",
            "\n"
          ],
          "name": "stdout"
        }
      ]
    },
    {
      "cell_type": "code",
      "metadata": {
        "id": "QgHR7nWwCRpB",
        "colab_type": "code",
        "colab": {}
      },
      "source": [
        "clientes={}"
      ],
      "execution_count": 53,
      "outputs": []
    },
    {
      "cell_type": "code",
      "metadata": {
        "id": "QKN9D-dtCUIp",
        "colab_type": "code",
        "colab": {}
      },
      "source": [
        "clientes[\"11122233301\"]=[\"Fulano de Tal\", \"RG:22334402\", \"CPF:11122233301\"] "
      ],
      "execution_count": 12,
      "outputs": []
    },
    {
      "cell_type": "code",
      "metadata": {
        "id": "5WpZtb0eCe8C",
        "colab_type": "code",
        "colab": {}
      },
      "source": [
        "clientes[\"22233344402\"]=[\"Beltrano Citado\", \"RG:33445503\", \"CPF:22233344402\"]"
      ],
      "execution_count": 13,
      "outputs": []
    },
    {
      "cell_type": "code",
      "metadata": {
        "id": "M28sgbsHCgCJ",
        "colab_type": "code",
        "colab": {}
      },
      "source": [
        "clientes[\"33344455503\"]=[\"Ciclano Mal Falado\", \"RG:44556604\", \"CPF:33344455503\"]"
      ],
      "execution_count": 14,
      "outputs": []
    },
    {
      "cell_type": "code",
      "metadata": {
        "id": "bGd3khwuCq0g",
        "colab_type": "code",
        "colab": {}
      },
      "source": [
        "clientes[\"44455566604\"]=[\"Chiquinha Devedora\", \"RG:55667705\", \"CPF:44455566604\"]"
      ],
      "execution_count": 15,
      "outputs": []
    },
    {
      "cell_type": "code",
      "metadata": {
        "id": "kuuFtBg_Crq4",
        "colab_type": "code",
        "colab": {}
      },
      "source": [
        "clientes[\"55566677705\"]=[\"Locatário da Silva\", \"RG:66778806\", \"CPF:55566677705\"]"
      ],
      "execution_count": 16,
      "outputs": []
    },
    {
      "cell_type": "code",
      "metadata": {
        "id": "D8v1hqpwDa4J",
        "colab_type": "code",
        "colab": {
          "base_uri": "https://localhost:8080/",
          "height": 102
        },
        "outputId": "e676f93f-ce3b-4ed9-e147-aa62d4a7fa16"
      },
      "source": [
        "clientes"
      ],
      "execution_count": 17,
      "outputs": [
        {
          "output_type": "execute_result",
          "data": {
            "text/plain": [
              "{'11122233301': ['Fulano de Tal', 'RG:22334402', 'CPF:11122233301'],\n",
              " '22233344402': ['Beltrano Citado', 'RG:33445503', 'CPF:22233344402'],\n",
              " '33344455503': ['Ciclano Mal Falado', 'RG:44556604', 'CPF:33344455503'],\n",
              " '44455566604': ['Chiquinha Devedora', 'RG:55667705', 'CPF:44455566604'],\n",
              " '55566677705': ['Locatário da Silva', 'RG:66778806', 'CPF:55566677705']}"
            ]
          },
          "metadata": {
            "tags": []
          },
          "execution_count": 17
        }
      ]
    },
    {
      "cell_type": "code",
      "metadata": {
        "id": "WTRw2fG7_G5o",
        "colab_type": "code",
        "colab": {}
      },
      "source": [
        "#Cadastro dos produtos da Locadora\n",
        "def produtos():\n",
        "    print(\"**** CADASTRO DE PRODUTOS ****\\n\")\n",
        "    tipo=str(input('Tipo do Produto DVD/Fita:'))\n",
        "    codigo=int(input('Código do Produto:'))\n",
        "    filme=str(input('Nome do Filme:'))\n",
        "    ano=int(input('Ano de Lançamento:'))\n",
        "    print(\"Cadastro realizado com sucesso!\\n\")\n",
        "    salvar_csv=open('produtos.csv','a')\n",
        "    salvar_csv.write(f'{codigo};{tipo};{filme};{ano}\\n')\n",
        "    salvar_csv.close()"
      ],
      "execution_count": 110,
      "outputs": []
    },
    {
      "cell_type": "code",
      "metadata": {
        "id": "iisq5eRuDrO1",
        "colab_type": "code",
        "colab": {
          "base_uri": "https://localhost:8080/",
          "height": 153
        },
        "outputId": "17d6f425-1946-4e36-9fa4-1cd0e9ca01e6"
      },
      "source": [
        "#Chamando a função para realizar o cadastro dos produtos\n",
        "produtos()"
      ],
      "execution_count": 109,
      "outputs": [
        {
          "output_type": "stream",
          "text": [
            "**** CADASTRO DE PRODUTOS ****\n",
            "\n",
            "Tipo do Produto DVD/Fita:DVD\n",
            "Código do Produto:1420\n",
            "Nome do Filme:Boneco Assassino\n",
            "Ano de Lançamento:2003\n",
            "Cadastro realizado com sucesso!\n",
            "\n"
          ],
          "name": "stdout"
        }
      ]
    },
    {
      "cell_type": "code",
      "metadata": {
        "id": "ttJNRo9eEpSk",
        "colab_type": "code",
        "colab": {}
      },
      "source": [
        "produtos={}"
      ],
      "execution_count": 68,
      "outputs": []
    },
    {
      "cell_type": "code",
      "metadata": {
        "id": "mT9Vae1vHHGq",
        "colab_type": "code",
        "colab": {}
      },
      "source": [
        "produtos[\"1010\"]=[\"COD:1010\",\"TIPO:Fita\",\"NOME:Planeta dos Macacos\",\"ANO:1991\"] "
      ],
      "execution_count": 24,
      "outputs": []
    },
    {
      "cell_type": "code",
      "metadata": {
        "id": "Xgv4PYMoJhkF",
        "colab_type": "code",
        "colab": {}
      },
      "source": [
        "produtos[\"1111\"]=[\"COD:1111\",\"TIPO:Fita\",\"NOME:Indiana Jones\",\"ANO:1993\"]"
      ],
      "execution_count": 25,
      "outputs": []
    },
    {
      "cell_type": "code",
      "metadata": {
        "id": "eunW9Lr0JsCj",
        "colab_type": "code",
        "colab": {}
      },
      "source": [
        "produtos[\"1210\"]=[\"COD:1210\",\"TIPO:Fita\",\"NOME:Os Deuses estão Loucos\",\"ANO:1994\"]"
      ],
      "execution_count": 26,
      "outputs": []
    },
    {
      "cell_type": "code",
      "metadata": {
        "id": "MnJLs3qNJ6HB",
        "colab_type": "code",
        "colab": {}
      },
      "source": [
        "produtos[\"1220\"]=[\"COD:1220\",\"TIPO:DVD\",\"NOME:MIB-Homens de Preto\",\"ANO:2001\"]"
      ],
      "execution_count": 27,
      "outputs": []
    },
    {
      "cell_type": "code",
      "metadata": {
        "id": "9WMj_t9eKPQ6",
        "colab_type": "code",
        "colab": {}
      },
      "source": [
        "produtos[\"1310\"]=[\"COD:1310\",\"TIPO:DVD\",\"NOME:Independece day\",\"ANO:2002\"]"
      ],
      "execution_count": 28,
      "outputs": []
    },
    {
      "cell_type": "code",
      "metadata": {
        "id": "AFpWYzwnKgmY",
        "colab_type": "code",
        "colab": {}
      },
      "source": [
        "produtos[\"1315\"]=[\"COD:1315\",\"TIPO:DVD\",\"NOME:A pequena sereia\",\"ANO:2004\"]"
      ],
      "execution_count": 29,
      "outputs": []
    },
    {
      "cell_type": "code",
      "metadata": {
        "id": "9LmFfiNXKyYW",
        "colab_type": "code",
        "colab": {}
      },
      "source": [
        "produtos[\"1420\"]=[\"COD:1420\",\"TIPO:DVD\",\"NOME:Boneco Assassino\",\"ANO:2003\"]"
      ],
      "execution_count": 30,
      "outputs": []
    },
    {
      "cell_type": "code",
      "metadata": {
        "id": "dtBk3xxuLDo-",
        "colab_type": "code",
        "colab": {
          "base_uri": "https://localhost:8080/",
          "height": 136
        },
        "outputId": "cf1d7710-029a-43fa-a024-ec7d47bbbefa"
      },
      "source": [
        "produtos"
      ],
      "execution_count": 31,
      "outputs": [
        {
          "output_type": "execute_result",
          "data": {
            "text/plain": [
              "{'1010': ['COD:1010', 'TIPO:Fita', 'NOME:Planeta dos Macacos', 'ANO:1991'],\n",
              " '1111': ['COD:1111', 'TIPO:Fita', 'NOME:Indiana Jones', 'ANO:1993'],\n",
              " '1210': ['COD:1210', 'TIPO:Fita', 'NOME:Os Deuses estão Loucos', 'ANO:1994'],\n",
              " '1220': ['COD:1220', 'TIPO:DVD', 'NOME:MIB-Homens de Preto', 'ANO:2001'],\n",
              " '1310': ['COD:1310', 'TIPO:DVD', 'NOME:Independece day', 'ANO:2002'],\n",
              " '1315': ['COD:1315', 'TIPO:DVD', 'NOME:A pequena sereia', 'ANO:2004'],\n",
              " '1420': ['COD:1420', 'TIPO:DVD', 'NOME:Boneco Assassino', 'ANO:2003']}"
            ]
          },
          "metadata": {
            "tags": []
          },
          "execution_count": 31
        }
      ]
    },
    {
      "cell_type": "code",
      "metadata": {
        "id": "ae9lbMhA67Ux",
        "colab_type": "code",
        "colab": {}
      },
      "source": [
        "#Cadastro de Empréstimo de produtos da Locadora\n",
        "def emprestimos(): \n",
        "    print(\"*** CADASTRO DE EMPRÉSTIMOS DOS PRODUTOS ***\\n\")\n",
        "    nome=str(input('Nome do Cliente:'))\n",
        "    codigo=int(input('Código do Item Emprestado:'))\n",
        "    data=str(input('Data do Empréstimo:'))\n",
        "    print(\"Cadastro concluído. Agradecemos pela preferência!\\n\")\n",
        "    salvar_csv=open('emprestimos.csv','a')\n",
        "    salvar_csv.write(f'{codigo};{nome};{data}\\n')\n",
        "    salvar_csv.close()"
      ],
      "execution_count": 124,
      "outputs": []
    },
    {
      "cell_type": "code",
      "metadata": {
        "id": "wVRSSxizBfhl",
        "colab_type": "code",
        "colab": {
          "base_uri": "https://localhost:8080/",
          "height": 136
        },
        "outputId": "7fe2990e-0592-4a08-cdbf-75383ab966a7"
      },
      "source": [
        "#Chamando a função para realizar o cadastro do controle de emprestimos da Locadora\n",
        "emprestimos()"
      ],
      "execution_count": 122,
      "outputs": [
        {
          "output_type": "stream",
          "text": [
            "*** CADASTRO DE EMPRÉSTIMOS DOS PRODUTOS ***\n",
            "\n",
            "Nome do Cliente:Locatário da Silva\n",
            "Código do Item Emprestado:1220\n",
            "Data do Empréstimo:19/08/2020\n",
            "Cadastro concluído. Agradecemos pela preferência!\n",
            "\n"
          ],
          "name": "stdout"
        }
      ]
    },
    {
      "cell_type": "code",
      "metadata": {
        "id": "N01ZsZhnEZ7n",
        "colab_type": "code",
        "colab": {}
      },
      "source": [
        "#Controle de Empréstimo de produtos da Locadora\n",
        "def controle():\n",
        " print(\"*** CONTROLE DE EMPRÉSTIMOS DOS PRODUTOS - Cliente 01 ***\\n\")\n",
        " cpf=int(input('CPF:'))\n",
        " nome=str(input('Nome do Cliente:'))\n",
        " titulo=str(input('Título do Filme Emprestado:'))\n",
        " data=str(input('Data do Empréstimo:'))\n",
        " qtdias=int(input('Quantidade de dias de empréstimo:'))\n",
        " if qtdias <=7: print(\"Situação:Regular!\")\n",
        " Else: print(\"Atrasado!\")\n",
        " \n",
        " print(\"*** CONTROLE DE EMPRÉSTIMOS DOS PRODUTOS - Cliente 02 ***\\n\")\n",
        " cpf=int(input('CPF:'))\n",
        " nome=str(input('Nome do Cliente:'))\n",
        " titulo=str(input('Título do Filme Emprestado:'))\n",
        " data=str(input('Data do Empréstimo:'))\n",
        " qtdias=int(input('Quantidade de dias de empréstimo:'))\n",
        " if qtdias <=7: print(\"Situação:Regular!\")\n",
        " Else: print(\"Atrasado!\")"
      ],
      "execution_count": 172,
      "outputs": []
    },
    {
      "cell_type": "code",
      "metadata": {
        "id": "f__dQ6twG_cc",
        "colab_type": "code",
        "colab": {
          "base_uri": "https://localhost:8080/",
          "height": 272
        },
        "outputId": "49cb410a-b7dd-429b-ceba-14e5282a6773"
      },
      "source": [
        "#Chamando a função para realizar o cadastro do controle de emprestimos da Locadora\n",
        "controle()"
      ],
      "execution_count": 173,
      "outputs": [
        {
          "output_type": "stream",
          "text": [
            "*** CONTROLE DE EMPRÉSTIMOS DOS PRODUTOS - Cliente 01 ***\n",
            "\n",
            "CPF:11122233301\n",
            "Nome do Cliente:Fulano de Tal\n",
            "Título do Filme Emprestado:A Pequena Sereia\n",
            "Data do Empréstimo:15/08/2020\n",
            "Quantidade de dias de empréstimo:6\n",
            "Situação:Regular!\n",
            "*** CONTROLE DE EMPRÉSTIMOS DOS PRODUTOS - Cliente 02 ***\n",
            "\n",
            "CPF:44455566604\n",
            "Nome do Cliente:Chiquinha Devedora\n",
            "Título do Filme Emprestado:Independece day\n",
            "Data do Empréstimo:10/08/2020\n",
            "Quantidade de dias de empréstimo:11\n"
          ],
          "name": "stdout"
        }
      ]
    }
  ]
}